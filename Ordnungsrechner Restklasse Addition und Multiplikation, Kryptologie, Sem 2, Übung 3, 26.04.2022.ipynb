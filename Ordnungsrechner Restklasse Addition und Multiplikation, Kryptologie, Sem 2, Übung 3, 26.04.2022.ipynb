{
 "cells": [
  {
   "cell_type": "markdown",
   "id": "8a8c8921",
   "metadata": {},
   "source": [
    "# Willkommen zum Ordnungsrechner \n",
    "## Der Ordnungsrechner berechnet die Ordnung eines bestimmten Elements in einer Gruppe mit der Multiplikation und/oder Addition als Verknüpfung!"
   ]
  },
  {
   "cell_type": "code",
   "execution_count": 8,
   "id": "58c16cea",
   "metadata": {},
   "outputs": [
    {
     "name": "stdout",
     "output_type": "stream",
     "text": [
      "\n",
      "Bitte geben Sie eine gültige Ganzzahl ein.\n",
      "Modulo n der Restklasse: 10\n",
      "\n",
      "Bitte geben Sie eine gültige Ganzzahl ein.\n",
      "Element g, deren Ordnung bestimmt werden muss: 5\n",
      "\n",
      "Bitte geben Sie eine gültige Verknüpfung (+, *, Beide) ein.\n",
      "Verknüpfung, welche in der Gruppe herrscht: +\n"
     ]
    }
   ],
   "source": [
    "# Initialisierung\n",
    "\n",
    "modulo = None\n",
    "element = None\n",
    "Verknüpfung = None\n",
    "\n",
    "\n",
    "# Fehlerabfrage und Eingabe\n",
    "\n",
    "while(type(modulo) != int):\n",
    "    try:\n",
    "        print(\"\\nBitte geben Sie eine gültige Ganzzahl ein.\")\n",
    "        modulo = int(input(\"Modulo n der Restklasse: \"))\n",
    "    except Exception as e:\n",
    "        print(\"\\nFehlercode: \", e)\n",
    "\n",
    "while(type(element) != int):\n",
    "    try:\n",
    "        print(\"\\nBitte geben Sie eine gültige Ganzzahl ein.\")\n",
    "        element = int(input(\"Element g, deren Ordnung bestimmt werden muss: \"))\n",
    "    except Exception as e:\n",
    "        print(\"\\nFehlercode: \", e)\n",
    "\n",
    "while(Verknüpfung != \"+\" and Verknüpfung != \"*\" and Verknüpfung != \"Beide\"):\n",
    "    try:\n",
    "        print(\"\\nBitte geben Sie eine gültige Verknüpfung (+, *, Beide) ein.\")\n",
    "        Verknüpfung = input(\"Verknüpfung, welche in der Gruppe herrscht: \")\n",
    "    except Exception as e:\n",
    "        print(\"\\nFehlercode: \", e)"
   ]
  },
  {
   "cell_type": "markdown",
   "id": "eff2b088",
   "metadata": {},
   "source": [
    "### Multiplikative Verknüpfung:\n",
    "##### Teileranzahl und Teiler von n-1 bestimmen:"
   ]
  },
  {
   "cell_type": "code",
   "execution_count": 2,
   "id": "87a5bb3e",
   "metadata": {},
   "outputs": [],
   "source": [
    "if(Verknüpfung == \"*\" or Verknüpfung == \"Beide\"):\n",
    "    \n",
    "    \n",
    "    teileranzahl = 0\n",
    "    teiler = []\n",
    "    zaehler = 0"
   ]
  },
  {
   "cell_type": "code",
   "execution_count": 3,
   "id": "cc768d5c",
   "metadata": {},
   "outputs": [
    {
     "name": "stdout",
     "output_type": "stream",
     "text": [
      "Teileranzahl:  4\n",
      "Die Teiler sind:  [1, 2, 3, 6]\n"
     ]
    }
   ],
   "source": [
    "if(Verknüpfung == \"*\" or Verknüpfung == \"Beide\"):\n",
    "\n",
    "\n",
    "    for zaehler in range(1, int(((modulo-1)/2)+1)): # Die for-Schleife findet alle echten Teiler von n-1 und die 1\n",
    "        if((modulo-1)%zaehler == 0):\n",
    "            teileranzahl = teileranzahl + 1; # Weiterer Teiler wurde gefunden\n",
    "            teiler.append(zaehler) #Teiler wird zur Teilerliste hinzugefügt\n",
    "            #print(\"Teileranzahl: \", teileranzahl)\n",
    "            #print(\"Die Teiler sind: \", teiler)\n",
    "\n",
    "    # Dieser Abschnitt fügt noch den unechten Teiler n-1 zu den Teilern hinzu\n",
    "    teileranzahl = teileranzahl + 1\n",
    "    teiler.append((modulo-1))\n",
    "\n",
    "    print(\"Teileranzahl: \", teileranzahl)\n",
    "    print(\"Die Teiler sind: \", teiler)"
   ]
  },
  {
   "cell_type": "markdown",
   "id": "bb7ee423",
   "metadata": {},
   "source": [
    "##### Nun wird nach der Ordnung des Elementes g geschaut:"
   ]
  },
  {
   "cell_type": "code",
   "execution_count": 4,
   "id": "be21449d",
   "metadata": {},
   "outputs": [],
   "source": [
    "if(Verknüpfung == \"*\" or Verknüpfung == \"Beide\"):\n",
    "\n",
    "\n",
    "    index = 0\n",
    "    ordnung = None\n",
    "    ergebnis = None"
   ]
  },
  {
   "cell_type": "code",
   "execution_count": 5,
   "id": "115402b1",
   "metadata": {},
   "outputs": [
    {
     "name": "stdout",
     "output_type": "stream",
     "text": [
      "Die Ordnung des Elements  3  in der Restklasse  7  ist:  6\n"
     ]
    }
   ],
   "source": [
    "if(Verknüpfung == \"*\" or Verknüpfung == \"Beide\"):\n",
    "\n",
    "\n",
    "    for index in range(teileranzahl):\n",
    "        ergebnis = (element**teiler[index])%modulo\n",
    "        if(ergebnis == 1):\n",
    "            ordnung = teiler[index]\n",
    "            break\n",
    "            \n",
    "    if(ordnung == None): # Abfangabfrage, wenn sich die Ordnung des Elements nicht berechnen lässt, da z.b. die Eingabe falsch war oder die Ordnung nicht errechenbar ist in dem Körper\n",
    "        print(\"Bei der Berechnung der Ordnung ist entweder ein Fehler unterlaufen oder es kann keine Ordnung für dieses Element in dem Körper mit einer multiplikativen Verknüpfung berechnet werden. Überprüfen Sie ihre Eingabe oder kontaktieren Sie den Hersteller\")\n",
    "    else:\n",
    "        print(\"Die Ordnung des Elements \", element, \" in der Restklasse \", modulo, \" ist: \", ordnung)"
   ]
  },
  {
   "cell_type": "markdown",
   "id": "19ab0444",
   "metadata": {},
   "source": [
    "### Additive Verknüpfung:"
   ]
  },
  {
   "cell_type": "code",
   "execution_count": 6,
   "id": "4d270557",
   "metadata": {},
   "outputs": [],
   "source": [
    "if(Verknüpfung == \"+\" or Verknüpfung == \"Beide\"):\n",
    "\n",
    "\n",
    "    ordnung = None\n",
    "    ergebnis = None"
   ]
  },
  {
   "cell_type": "code",
   "execution_count": 9,
   "id": "a936d4c7",
   "metadata": {},
   "outputs": [
    {
     "name": "stdout",
     "output_type": "stream",
     "text": [
      "2\n",
      "Die Ordnung des Elements  5  in der Restklasse  10  ist:  2\n"
     ]
    }
   ],
   "source": [
    "if(Verknüpfung == \"+\" or Verknüpfung == \"Beide\"):\n",
    "\n",
    "\n",
    "    for ordnung in range(1, modulo):\n",
    "        ergebnis = (element*ordnung)%modulo\n",
    "        if(ergebnis == 0):\n",
    "            #print(ordnung)\n",
    "            break\n",
    "\n",
    "\n",
    "    if(ordnung == None): # Abfangabfrage, wenn sich die Ordnung des Elements nicht berechnen lässt, da z.b. die Eingabe falsch war oder die Ordnung nicht errechenbar ist in dem Körper\n",
    "        print(\"Bei der Berechnung der Ordnung ist entweder ein Fehler unterlaufen oder es kann keine Ordnung für dieses Element in dem Körper mit einer multiplikativen Verknüpfung berechnet werden. Überprüfen Sie ihre Eingabe oder kontaktieren Sie den Hersteller\")\n",
    "    elif(ergebnis != 0):\n",
    "        print(\"Das Element \", element, \" in der Restklasse \", modulo, \" hat keine Ordnung\")\n",
    "    else:\n",
    "        print(\"Die Ordnung des Elements \", element, \" in der Restklasse \", modulo, \" ist: \", ordnung)"
   ]
  },
  {
   "cell_type": "code",
   "execution_count": null,
   "id": "79a5a25c",
   "metadata": {},
   "outputs": [],
   "source": []
  }
 ],
 "metadata": {
  "kernelspec": {
   "display_name": "Python 3",
   "language": "python",
   "name": "python3"
  },
  "language_info": {
   "codemirror_mode": {
    "name": "ipython",
    "version": 3
   },
   "file_extension": ".py",
   "mimetype": "text/x-python",
   "name": "python",
   "nbconvert_exporter": "python",
   "pygments_lexer": "ipython3",
   "version": "3.8.8"
  }
 },
 "nbformat": 4,
 "nbformat_minor": 5
}
